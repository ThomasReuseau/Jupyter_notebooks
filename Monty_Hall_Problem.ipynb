{
 "cells": [
  {
   "cell_type": "markdown",
   "metadata": {},
   "source": [
    "# Monty Hall Problem"
   ]
  },
  {
   "cell_type": "markdown",
   "metadata": {},
   "source": [
    "Suppose you're on a game show, and you're given the choice of three doors: Behind one door is a car; behind the others, goats. You pick a door, say No. 1, and the host, who knows what's behind the doors, opens another door, say No. 3, which has a goat. He then says to you, \"Do you want to pick door No. 2?\" Is it to your advantage to switch your choice? \n",
    "\n",
    "A player who stays with the initial choice wins in only one out of three of these equally likely possibilities, while a player who switches wins in two out of three.\n",
    "\n",
    "An intuitive explanation is that, if the contestant initially picks a goat (2 of 3 doors), the contestant will win the car by switching because the other goat can no longer be picked, whereas if the contestant initially picks the car (1 of 3 doors), the contestant will not win the car by switching. The fact that the host subsequently reveals a goat in one of the unchosen doors changes nothing about the initial probability. \n",
    "\n",
    "The problem is a paradox of the veridical type, because the correct choice (that one should switch doors) is so counterintuitive it can seem absurd, but is nevertheless demonstrably true."
   ]
  },
  {
   "cell_type": "code",
   "execution_count": 1,
   "metadata": {},
   "outputs": [],
   "source": [
    "import random\n",
    "import numpy as np"
   ]
  },
  {
   "cell_type": "code",
   "execution_count": 2,
   "metadata": {},
   "outputs": [],
   "source": [
    "Win = 0\n",
    "TrialNum = 0\n",
    "TestNum = 10000000"
   ]
  },
  {
   "cell_type": "code",
   "execution_count": 3,
   "metadata": {},
   "outputs": [],
   "source": [
    "np.random.seed(42)"
   ]
  },
  {
   "cell_type": "code",
   "execution_count": 4,
   "metadata": {},
   "outputs": [],
   "source": [
    "for i in range(TestNum):\n",
    "    TrialNum += 1\n",
    "    x = np.array(['goat', 'car', 'goat'])\n",
    "    random.shuffle(x)\n",
    "    FirstChoice = x[random.choice(range(0, 3, 1))]\n",
    "    # We always switch door for the second choice\n",
    "    # So, if we pick the car on the first choice\n",
    "    # We will pick a goat on the second choice & conversly\n",
    "    if FirstChoice == 'goat':\n",
    "        Win += 1"
   ]
  },
  {
   "cell_type": "code",
   "execution_count": 5,
   "metadata": {},
   "outputs": [
    {
     "name": "stdout",
     "output_type": "stream",
     "text": [
      "Test n° 10000000 : Always switching door for 2nd choice gives us a probability to win = 66.66735 %\n"
     ]
    }
   ],
   "source": [
    "print(\"Test n°\", str(TrialNum), \": Always switching door for 2nd choice gives us a probability to win =\",\n",
    "          str((Win/TrialNum)*100), \"%\")"
   ]
  }
 ],
 "metadata": {
  "kernelspec": {
   "display_name": "Python 3",
   "language": "python",
   "name": "python3"
  },
  "language_info": {
   "codemirror_mode": {
    "name": "ipython",
    "version": 3
   },
   "file_extension": ".py",
   "mimetype": "text/x-python",
   "name": "python",
   "nbconvert_exporter": "python",
   "pygments_lexer": "ipython3",
   "version": "3.6.7"
  }
 },
 "nbformat": 4,
 "nbformat_minor": 2
}
