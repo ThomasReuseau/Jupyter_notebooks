{
 "cells": [
  {
   "cell_type": "markdown",
   "metadata": {},
   "source": [
    "# Diffie-Hellman key exchange"
   ]
  },
  {
   "cell_type": "markdown",
   "metadata": {},
   "source": [
    "Diffie–Hellman key exchange is a method of securely exchanging cryptographic keys over a public channel and was one of the first public-key protocols. Diffie–Hellman is one of the earliest practical examples of public key exchange implemented within the field of cryptography.\n",
    "\n",
    "The Diffie–Hellman key exchange method allows two parties that have no prior knowledge of each other to jointly establish a shared secret key over an insecure channel. This key can then be used to encrypt subsequent communications using a symmetric key cipher. "
   ]
  },
  {
   "cell_type": "code",
   "execution_count": 1,
   "metadata": {},
   "outputs": [],
   "source": [
    "from sympy import randprime\n",
    "from random import randint"
   ]
  },
  {
   "cell_type": "code",
   "execution_count": 2,
   "metadata": {},
   "outputs": [
    {
     "name": "stdout",
     "output_type": "stream",
     "text": [
      "Publicly Shared Variables: \n",
      "\n",
      "   Publicly Shared Prime:  347510067377571038061496914779402278268703996433204893208412882261702333968733815103642461202083627\n",
      "   Publicly Shared Base:   97460\n",
      "\n",
      "------------\n",
      "\n",
      "Alice Sends Over Public Chanel:  176099033365094008826643052763642472417395990686645276722781020924426782081890277219381891207553223\n",
      "Bob Sends Over Public Chanel:    13478692533810726974574420989966310624482208843699558758353198793932705074381715680392178025008099\n",
      "\n",
      "------------\n",
      "\n",
      "Privately Calculated Shared Secret: \n",
      "\n",
      "   Alice Shared Secret:  174140779374950098490990696796184396204405180944337046675054802104128605407310084745044349631088009\n",
      "   Bob Shared Secret:    174140779374950098490990696796184396204405180944337046675054802104128605407310084745044349631088009\n"
     ]
    }
   ],
   "source": [
    "# Variables Used\n",
    "sharedPrime = randprime(10,10**99) # p\n",
    "sharedBase = randint(1,10**5)      # g\n",
    " \n",
    "aliceSecret = randint(1,10**5)     # a\n",
    "bobSecret = randint(1,10**5)       # b\n",
    " \n",
    "# Begin\n",
    "print(\"Publicly Shared Variables: \\n\")\n",
    "print(\"   Publicly Shared Prime: \" , sharedPrime)\n",
    "print(\"   Publicly Shared Base:  \" , sharedBase)\n",
    "\n",
    "print(\"\\n------------\\n\")\n",
    "\n",
    "# Alice Sends Bob A = g^a mod p\n",
    "A = (sharedBase**aliceSecret) % sharedPrime\n",
    "print(\"Alice Sends Over Public Chanel: \" , A)\n",
    " \n",
    "# Bob Sends Alice B = g^b mod p\n",
    "B = (sharedBase ** bobSecret) % sharedPrime\n",
    "print(\"Bob Sends Over Public Chanel:   \", B)\n",
    " \n",
    "print(\"\\n------------\\n\")\n",
    "\n",
    "print(\"Privately Calculated Shared Secret: \\n\")\n",
    "\n",
    "# Alice Computes Shared Secret: s = B^a mod p\n",
    "aliceSharedSecret = (B ** aliceSecret) % sharedPrime\n",
    "print(\"   Alice Shared Secret: \", aliceSharedSecret)\n",
    " \n",
    "# Bob Computes Shared Secret: s = A^b mod p\n",
    "bobSharedSecret = (A ** bobSecret) % sharedPrime\n",
    "print(\"   Bob Shared Secret:   \", bobSharedSecret)"
   ]
  },
  {
   "cell_type": "code",
   "execution_count": 3,
   "metadata": {},
   "outputs": [
    {
     "data": {
      "text/plain": [
       "True"
      ]
     },
     "execution_count": 3,
     "metadata": {},
     "output_type": "execute_result"
    }
   ],
   "source": [
    "aliceSharedSecret == bobSharedSecret"
   ]
  }
 ],
 "metadata": {
  "kernelspec": {
   "display_name": "Python 3",
   "language": "python",
   "name": "python3"
  },
  "language_info": {
   "codemirror_mode": {
    "name": "ipython",
    "version": 3
   },
   "file_extension": ".py",
   "mimetype": "text/x-python",
   "name": "python",
   "nbconvert_exporter": "python",
   "pygments_lexer": "ipython3",
   "version": "3.7.0"
  }
 },
 "nbformat": 4,
 "nbformat_minor": 2
}
