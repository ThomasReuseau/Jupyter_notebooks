{
 "cells": [
  {
   "cell_type": "markdown",
   "metadata": {},
   "source": [
    "# Diffie-Hellman key exchange"
   ]
  },
  {
   "cell_type": "markdown",
   "metadata": {},
   "source": [
    "Diffie–Hellman key exchange is a method of securely exchanging cryptographic keys over a public channel and was one of the first public-key protocols. Diffie–Hellman is one of the earliest practical examples of public key exchange implemented within the field of cryptography.\n",
    "\n",
    "The Diffie–Hellman key exchange method allows two parties that have no prior knowledge of each other to jointly establish a shared secret key over an insecure channel. This key can then be used to encrypt subsequent communications using a symmetric key cipher. "
   ]
  },
  {
   "cell_type": "code",
   "execution_count": 1,
   "metadata": {},
   "outputs": [],
   "source": [
    "from sympy import randprime\n",
    "from random import randint\n",
    "from colorama import Fore"
   ]
  },
  {
   "cell_type": "code",
   "execution_count": 2,
   "metadata": {},
   "outputs": [
    {
     "name": "stdout",
     "output_type": "stream",
     "text": [
      "Publicly Shared Variables: \n",
      "\n",
      "   Publicly Shared Prime:  127830401288693549867796728429\n",
      "   Publicly Shared Base:   458\n",
      "\n",
      "------------\n",
      "\n",
      "Alice Sends Over Public Chanel:  32688218466574421314033300606\n",
      "Bob Sends Over Public Chanel:    123129483445662435112237589672\n",
      "\n",
      "------------\n",
      "\n",
      "Privately Calculated Shared Secret: \n",
      "\n",
      "\u001b[31m   Alice Shared Secret: \u001b[39m 120906049990695425723412657032\n",
      "\u001b[31m   Bob Shared Secret:   \u001b[39m 120906049990695425723412657032\n"
     ]
    }
   ],
   "source": [
    "# Variables Used\n",
    "sharedPrime = randprime(10,2**99)  # p\n",
    "sharedBase = randint(1,2**10)      # g\n",
    " \n",
    "aliceSecret = randint(1,2**10)     # a\n",
    "bobSecret = randint(1,2**10)       # b\n",
    " \n",
    "# Begin\n",
    "print(\"Publicly Shared Variables: \\n\")\n",
    "print(\"   Publicly Shared Prime: \" , sharedPrime)\n",
    "print(\"   Publicly Shared Base:  \" , sharedBase)\n",
    "\n",
    "print(\"\\n------------\\n\")\n",
    "\n",
    "# Alice Sends Bob A = g^a mod p\n",
    "A = (sharedBase**aliceSecret) % sharedPrime\n",
    "print(\"Alice Sends Over Public Chanel: \" , A)\n",
    " \n",
    "# Bob Sends Alice B = g^b mod p\n",
    "B = (sharedBase ** bobSecret) % sharedPrime\n",
    "print(\"Bob Sends Over Public Chanel:   \", B)\n",
    " \n",
    "print(\"\\n------------\\n\")\n",
    "\n",
    "print(\"Privately Calculated Shared Secret: \\n\")\n",
    "\n",
    "# Alice Computes Shared Secret: s = B^a mod p\n",
    "aliceSharedSecret = (B ** aliceSecret) % sharedPrime\n",
    "print(Fore.RED + \"   Alice Shared Secret: \" + Fore.RESET, aliceSharedSecret)\n",
    " \n",
    "# Bob Computes Shared Secret: s = A^b mod p\n",
    "bobSharedSecret = (A ** bobSecret) % sharedPrime\n",
    "print(Fore.RED + \"   Bob Shared Secret:   \" + Fore.RESET, bobSharedSecret)"
   ]
  },
  {
   "cell_type": "code",
   "execution_count": 3,
   "metadata": {},
   "outputs": [
    {
     "data": {
      "text/plain": [
       "True"
      ]
     },
     "execution_count": 3,
     "metadata": {},
     "output_type": "execute_result"
    }
   ],
   "source": [
    "aliceSharedSecret == bobSharedSecret"
   ]
  }
 ],
 "metadata": {
  "kernelspec": {
   "display_name": "Python 3",
   "language": "python",
   "name": "python3"
  },
  "language_info": {
   "codemirror_mode": {
    "name": "ipython",
    "version": 3
   },
   "file_extension": ".py",
   "mimetype": "text/x-python",
   "name": "python",
   "nbconvert_exporter": "python",
   "pygments_lexer": "ipython3",
   "version": "3.7.0"
  }
 },
 "nbformat": 4,
 "nbformat_minor": 2
}
